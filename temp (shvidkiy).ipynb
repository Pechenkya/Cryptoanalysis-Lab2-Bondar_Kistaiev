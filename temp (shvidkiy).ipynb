{
 "cells": [
  {
   "cell_type": "code",
   "execution_count": 1,
   "metadata": {},
   "outputs": [],
   "source": [
    "from pypdf import PdfReader\n",
    "import itertools\n",
    "import numpy as np"
   ]
  },
  {
   "cell_type": "code",
   "execution_count": null,
   "metadata": {},
   "outputs": [],
   "source": [
    "folder = \"documents\"\n",
    "ukr_texts = [\"Конституція.pdf\", \"Енеїда.pdf\", \"Кучма.pdf\", \"Хто.pdf\"]\n",
    "\n",
    "large_text = \"\"\n",
    "\n",
    "for text in ukr_texts:\n",
    "    reader = PdfReader(f\"{folder}/{text}\")\n",
    "    for page in reader.pages:\n",
    "        large_text += page.extract_text() + \"\\n\"\n"
   ]
  },
  {
   "cell_type": "code",
   "execution_count": null,
   "metadata": {},
   "outputs": [],
   "source": [
    "alph = list('АаБбВвГгҐґДдЕеЄєЖжЗзИиІіЇїЙйКкЛлМмНнОоПпРрСсТтУуФфХхЦцЧчШшЩщЬьЮюЯя')\n",
    "alph_low = list(' абвгґдеєжзиіїйклмнопрстуфхцчшщьюя')\n",
    "\n",
    "lang = []\n",
    "\n",
    "for c in large_text:\n",
    "    if c in alph:\n",
    "        lang.append(str.lower(c))\n",
    "    elif lang[-1] != ' ':\n",
    "        lang.append(' ')\n",
    "\n",
    "alph = [' '] + alph\n",
    "\n",
    "RING = {}\n",
    "for char in alph_low:\n",
    "    pos = alph_low.index(char)\n",
    "    RING[char] = pos"
   ]
  },
  {
   "cell_type": "code",
   "execution_count": null,
   "metadata": {},
   "outputs": [],
   "source": [
    "lang_1_counts = {k: lang.count(k) for k in alph_low}\n",
    "\n",
    "bigrams = np.transpose([lang[:-1], lang[1:]]).tolist()\n",
    "\n",
    "lang_2_counts = {(c1, c2): bigrams.count([c1, c2]) for c1, c2 in itertools.product(alph_low, alph_low)}\n",
    "\n",
    "print(lang_1_counts)\n",
    "print(lang_2_counts)\n"
   ]
  },
  {
   "cell_type": "code",
   "execution_count": null,
   "metadata": {},
   "outputs": [],
   "source": [
    "def index_of_coincidence(l_gram_counts):\n",
    "    counts = np.array(list(l_gram_counts.values()))\n",
    "    N = counts.sum()\n",
    "    I = sum(count * (count - 1) for count in counts) / (N * (N - 1))\n",
    "\n",
    "    return I\n",
    "\n",
    "def avg_entropy(l_gram_counts):\n",
    "    norm = len(l_gram_counts.keys()[0])\n",
    "    counts = np.array(list(l_gram_counts.values()))\n",
    "    probs = counts / counts.sum()\n",
    "    H = - sum(p * np.log(p) if p != 0 else 0 for p in probs) / norm\n",
    "\n",
    "    return H\n",
    "\n",
    "\n",
    "avg_entropy(lang_1_counts)\n"
   ]
  },
  {
   "cell_type": "code",
   "execution_count": null,
   "metadata": {},
   "outputs": [],
   "source": [
    "def vigenere_encrypt(text: str, key: str):\n",
    "    res = \"\"\n",
    "    r = len(key)\n",
    "    for i in range(0, len(text), r):\n",
    "        for j in range(r):\n",
    "            if i + j == len(text):\n",
    "                break\n",
    "            id = (RING[text[i + j]] + RING[key[j]]) % len(alph_low)\n",
    "            res += alph_low[id]\n",
    "\n",
    "    return res"
   ]
  },
  {
   "cell_type": "code",
   "execution_count": null,
   "metadata": {},
   "outputs": [],
   "source": [
    "def affine_ecrypt(text: str, a: int, b: int):\n",
    "    if np.gcd(a, len(alph_low)) != 1:\n",
    "        raise RuntimeError(\"Incorrect key, gcd(a, n) != 1\")\n",
    "    \n",
    "    res = \"\"\n",
    "    for i in range(0, len(text)):\n",
    "        id = (a * RING[text[i]] + b) % len(alph_low)\n",
    "        res += alph_low[id]\n",
    "\n",
    "    return res\n",
    "\n",
    "def affine_bigram_ecrypt():"
   ]
  }
 ],
 "metadata": {
  "kernelspec": {
   "display_name": "Python 3",
   "language": "python",
   "name": "python3"
  },
  "language_info": {
   "codemirror_mode": {
    "name": "ipython",
    "version": 3
   },
   "file_extension": ".py",
   "mimetype": "text/x-python",
   "name": "python",
   "nbconvert_exporter": "python",
   "pygments_lexer": "ipython3",
   "version": "3.12.7"
  }
 },
 "nbformat": 4,
 "nbformat_minor": 2
}
